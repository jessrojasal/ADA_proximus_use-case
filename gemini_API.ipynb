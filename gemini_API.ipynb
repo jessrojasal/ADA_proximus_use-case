{
 "cells": [
  {
   "cell_type": "markdown",
   "metadata": {},
   "source": [
    "### Set up API key"
   ]
  },
  {
   "cell_type": "code",
   "execution_count": 13,
   "metadata": {},
   "outputs": [],
   "source": [
    "# Import the Python SDK\n",
    "import google.generativeai as genai # type: ignore\n",
    "import json\n",
    "import os\n",
    "\n",
    "# Load the JSON file\n",
    "config_file = \"config.json\"\n",
    "if os.path.exists(config_file):\n",
    "    with open(config_file, \"r\") as file:\n",
    "        config = json.load(file)\n",
    "        GEMINI_API_KEY = config.get(\"GEMINI_API_KEY\")\n",
    "else:\n",
    "    raise FileNotFoundError(f\"Configuration file '{config_file}' not found.\")\n",
    "\n",
    "genai.configure(api_key=GEMINI_API_KEY)"
   ]
  },
  {
   "cell_type": "markdown",
   "metadata": {},
   "source": [
    "### Initialize the Generative Model"
   ]
  },
  {
   "cell_type": "code",
   "execution_count": 14,
   "metadata": {},
   "outputs": [],
   "source": [
    "model = genai.GenerativeModel('gemini-pro')"
   ]
  },
  {
   "cell_type": "markdown",
   "metadata": {},
   "source": [
    "### Generate text"
   ]
  },
  {
   "cell_type": "code",
   "execution_count": 15,
   "metadata": {},
   "outputs": [
    {
     "name": "stdout",
     "output_type": "stream",
     "text": [
      "Example Prompt:\n",
      "Write a haiku about Generative AI and it's limitless potential. \n",
      "\n",
      "Output:\n",
      "Infinite realms dance,\n",
      "Generative AI's brush,\n",
      "Potential unbound.\n"
     ]
    }
   ],
   "source": [
    "example_prompt=\"Write a haiku about Generative AI and it's limitless potential.\"\n",
    "print(\"Example Prompt:\\n\"+example_prompt,\"\\n\")\n",
    "response = model.generate_content(example_prompt)\n",
    "print(\"Output:\")\n",
    "print(response.text)"
   ]
  },
  {
   "cell_type": "markdown",
   "metadata": {},
   "source": [
    "## Phishing Prevention"
   ]
  },
  {
   "cell_type": "markdown",
   "metadata": {},
   "source": [
    "#### Generate Phishing Emails"
   ]
  },
  {
   "cell_type": "code",
   "execution_count": 16,
   "metadata": {},
   "outputs": [],
   "source": [
    "name=\"John\"\n",
    "surname=\"Doe\"\n",
    "email=\"john.doe@example.com\"\n",
    "business_unit=\"Sales\"\n",
    "team_name=\"B2B Sales\"\n",
    "\n",
    "#Create an approximate combination of phishing parameters\n",
    "phishing_examples = [\n",
    "    {\"Reason\": \"Account Suspicious Activity\", \"Fake Link\": \"https://example.com/secure-login\", \"Created By\": \"Sam Sussy\"},\n",
    "    {\"Reason\": \"Password Expiry Notification\", \"Fake Link\": \"https://example.com/reset-password\", \"Created By\": \"Sally Sneaky\"},\n",
    "    {\"Reason\": \"Exclusive Training Webinar\", \"Fake Link\": \"https://example.com/join-webinar\", \"Created By\": \"Richard Rascal\"},\n",
    "    {\"Reason\": \"Email Storage Full\", \"Fake Link\": \"https://example.com/manage-storage\", \"Created By\": \"Bernard Bandit\"}\n",
    "]"
   ]
  },
  {
   "cell_type": "code",
   "execution_count": 17,
   "metadata": {},
   "outputs": [
    {
     "name": "stdout",
     "output_type": "stream",
     "text": [
      "Prompt: Write an email from Bernard Bandit to John Doe from the B2B Sales team on the following theme: Email Storage Full.\n",
      "He will have to click on this link : https://example.com/manage-storage. Only write the body of this email.\n"
     ]
    }
   ],
   "source": [
    "#Take a random reason\n",
    "import random\n",
    "random_pick = random.choice(phishing_examples)\n",
    "\n",
    "#Formulate a prompt\n",
    "prompt=f'''Write an email from {random_pick[\"Created By\"]} to {name} {surname} from the {team_name} team on the following theme: {random_pick[\"Reason\"]}.\n",
    "He will have to click on this link : {random_pick[\"Fake Link\"]}. Only write the body of this email.'''\n",
    "\n",
    "print(\"Prompt:\",prompt)"
   ]
  },
  {
   "cell_type": "code",
   "execution_count": 18,
   "metadata": {},
   "outputs": [
    {
     "name": "stdout",
     "output_type": "stream",
     "text": [
      "Hi John,\n",
      "\n",
      "Your B2B Sales team email storage is currently full. Please click on the following link to manage your storage:\n",
      "\n",
      "https://example.com/manage-storage\n",
      "\n",
      "Thanks,\n",
      "Bernard Bandit\n"
     ]
    }
   ],
   "source": [
    "body = model.generate_content(prompt)\n",
    "print(body.text)"
   ]
  },
  {
   "cell_type": "code",
   "execution_count": 19,
   "metadata": {},
   "outputs": [
    {
     "name": "stdout",
     "output_type": "stream",
     "text": [
      "B2B Sales Team Email Storage Full\n"
     ]
    }
   ],
   "source": [
    "subject = model.generate_content(\"Write me the subject of this email:\\n\"+body.text)\n",
    "print(subject.text)"
   ]
  },
  {
   "cell_type": "markdown",
   "metadata": {},
   "source": [
    "#### Sending an email using your gmail account"
   ]
  },
  {
   "cell_type": "code",
   "execution_count": 20,
   "metadata": {},
   "outputs": [],
   "source": [
    "from google.auth.transport.requests import Request # type: ignore\n",
    "from google.oauth2.credentials import Credentials # type: ignore\n",
    "from google_auth_oauthlib.flow import InstalledAppFlow # type: ignore\n",
    "from googleapiclient.discovery import build # type: ignore\n",
    "from googleapiclient.errors import HttpError # type: ignore\n",
    "\n",
    "# If modifying these scopes, delete the file token.json.\n",
    "SCOPES = [\n",
    "    \"https://www.googleapis.com/auth/gmail.send\",\n",
    "]\n",
    "\n",
    "creds = None\n",
    "# The file token.json stores the user's access and refresh tokens, and is\n",
    "# created automatically when the authorization flow completes for the first time.\n",
    "if os.path.exists(\"token.json\"):\n",
    "    creds = Credentials.from_authorized_user_file(\"token.json\", SCOPES)\n",
    "# If there are no (valid) credentials available, let the user log in.\n",
    "if not creds or not creds.valid:\n",
    "    if creds and creds.expired and creds.refresh_token:\n",
    "        creds.refresh(Request())\n",
    "    else:\n",
    "        flow = InstalledAppFlow.from_client_secrets_file(\n",
    "            \"credentials.json\", SCOPES\n",
    "        )\n",
    "        creds = flow.run_local_server(port=0)\n",
    "    # Save the credentials for the next run\n",
    "    with open(\"token.json\", \"w\") as token:\n",
    "        token.write(creds.to_json())"
   ]
  },
  {
   "cell_type": "code",
   "execution_count": 21,
   "metadata": {},
   "outputs": [],
   "source": [
    "import base64\n",
    "import os.path\n",
    "from email.mime.text import MIMEText\n",
    "\n",
    "# This function has a weird return, ChatGPT made it that way, I didn't really look into it but here it is\n",
    "# It just creates an email object\n",
    "def create_message(sender, to, subject, message_text):\n",
    "    \"\"\"Create a message for an email.\"\"\"\n",
    "    message = MIMEText(message_text)\n",
    "    message[\"to\"] = to\n",
    "    message[\"from\"] = sender\n",
    "    message[\"subject\"] = subject\n",
    "    return {\"raw\": base64.urlsafe_b64encode(message.as_bytes()).decode()}\n",
    "\n",
    "def send_message(service, user_id, message):\n",
    "    \"\"\"Send an email message.\"\"\"\n",
    "    try:\n",
    "        sent_message = (\n",
    "            service.users()\n",
    "            .messages()\n",
    "            .send(userId=user_id, body=message)\n",
    "            .execute()\n",
    "        )\n",
    "        print(f\"Message sent! Message ID: {sent_message['id']}\")\n",
    "    except HttpError as error:\n",
    "        print(f\"An error occurred: {error}\")"
   ]
  },
  {
   "cell_type": "code",
   "execution_count": 22,
   "metadata": {},
   "outputs": [
    {
     "name": "stdout",
     "output_type": "stream",
     "text": [
      "Message sent! Message ID: 1945b4b5fa3c1c88\n"
     ]
    }
   ],
   "source": [
    "try:\n",
    "    # Call the Gmail API\n",
    "    service = build(\"gmail\", \"v1\", credentials=creds)\n",
    "\n",
    "    # Create and send a test email\n",
    "    sender = \"me\"  # 'me' refers to the authenticated user\n",
    "    recipient = \"proximus.notifications@gmail.com\" #put an email recipient, can be yourself but \"me\" doesn't work as argument\n",
    "\n",
    "    message = create_message(sender, recipient, subject.text, body.text)\n",
    "    send_message(service, \"me\", message)\n",
    "\n",
    "except HttpError as error:\n",
    "    print(f\"An error occurred: {error}\")"
   ]
  }
 ],
 "metadata": {
  "kernelspec": {
   "display_name": "ada-proximus",
   "language": "python",
   "name": "python3"
  },
  "language_info": {
   "codemirror_mode": {
    "name": "ipython",
    "version": 3
   },
   "file_extension": ".py",
   "mimetype": "text/x-python",
   "name": "python",
   "nbconvert_exporter": "python",
   "pygments_lexer": "ipython3",
   "version": "3.10.13"
  }
 },
 "nbformat": 4,
 "nbformat_minor": 2
}
